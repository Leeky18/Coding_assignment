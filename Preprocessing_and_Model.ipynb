{
 "cells": [
  {
   "cell_type": "markdown",
   "id": "eddbba31-b06e-424d-a391-c9686add9682",
   "metadata": {},
   "source": [
    "<h1 align=\"center\"> <b> Customer lead generator: Predicting model </b> </h1>\n",
    "\n",
    "<center> <img src=\"images/Bild1.png\" width=\"200px\"> </center>"
   ]
  },
  {
   "cell_type": "markdown",
   "id": "0d7be392-182d-43a6-97ac-83a908dd721f",
   "metadata": {},
   "source": [
    "### Table of Contents\n",
    "* [Model selection](#Model-selection)\n",
    "* [Metric](#Metric)\n",
    "* [Preprocessing](#Preprocessing)\n",
    "* [Modelling](#Modelling)\n",
    "* [Recommendations for the stakeholder](#Recommendations-for-the-stakeholder)\n",
    "* [Final words](#Final-words)"
   ]
  },
  {
   "cell_type": "markdown",
   "id": "a9179175-1dd5-4dc1-a769-5b036612a606",
   "metadata": {},
   "source": [
    "### Model selection"
   ]
  },
  {
   "cell_type": "markdown",
   "id": "8f9101da-36cb-45a6-95c2-476c7133c706",
   "metadata": {},
   "source": [
    "In this notebook, a preprocessed model is implemented to predict customer leads based on the provided data and the previously performed [EDA](EDA.ipynb). As mentioned there, only 2.5% of all data shows *b_in_kontakt_gewesen* = 1. The observations with *b_in_kontakt_gewesen* = 0 all have *b_gekauft_gesamt* = 0. In fact, all these observations are still potential customers. Thus, the data with *b_in_kontakt_gewesen* = 0 can be regarded without the label *b_in_kontakt_gewesen*. This challenge is therefore dealing with a huge amount of **unlabelled data**. This leads to the conclusion that chosing a simple model to avoid extensive overfitting is absolutely important. Using fewer training data still poses the risk of using a model with high bias."
   ]
  },
  {
   "cell_type": "code",
   "execution_count": 307,
   "id": "fe70ea2a-8d56-40f1-83d4-446e8b7dfcd5",
   "metadata": {
    "jupyter": {
     "source_hidden": true
    },
    "tags": []
   },
   "outputs": [
    {
     "data": {
      "image/png": "[encoded data removed]",
      "text/plain": [
       "<Figure size 432x288 with 1 Axes>"
      ]
     },
     "metadata": {
      "needs_background": "light"
     },
     "output_type": "display_data"
    }
   ],
   "source": [
    "plt.bar([\"YES (Labelled)\",\"NO (Unlabelled)\"],[95,3678])  \n",
    "plt.ylabel('Number of observations') \n",
    "plt.title('b_in_kontakt_gewesen YES vs. NO')\n",
    "plt.show()"
   ]
  },
  {
   "cell_type": "markdown",
   "id": "0358731d-3321-4b59-bbf9-9248f9032806",
   "metadata": {},
   "source": [
    "To deal with unlablled data, a **semi-supervised** approach was chosen:\n",
    "The labelled data with *b_in_kontakt_gewesen* = 1 are split into a training and test set. Logistic regression was used to build a model using the training data. In a next step, this model was used to label the unlabelled data in several steps. This process was used to gain a refined model. At last, the test data were given as input to this refined model."
   ]
  },
  {
   "cell_type": "markdown",
   "id": "9962e100-1a8a-4891-a83f-82456c9be839",
   "metadata": {},
   "source": [
    "### Metric"
   ]
  },
  {
   "cell_type": "markdown",
   "id": "d26ffde2-92b2-431b-8a20-1afd3eaed15e",
   "metadata": {},
   "source": [
    "A high recall is the most reasonable metric for this situation. For selling products it is vital not to miss any potential customer. On the other hand, it is also not bad to contact more people. Although more resources and manhours are spent, a first contact is also a good opportunity to spread the company's name for recommendations and possible purchases in the future. Hence, a high recall is aimed for this task, also maintaining a proper accuracy and a f1-score."
   ]
  },
  {
   "cell_type": "markdown",
   "id": "1721eca7-c87a-4936-9f37-d04968d20f6d",
   "metadata": {},
   "source": [
    "### Preprocessing"
   ]
  },
  {
   "cell_type": "markdown",
   "id": "3fba3ee2-f9ea-4e7f-a844-c148da1fd3dc",
   "metadata": {},
   "source": [
    "The data were preprocessed before the implementation of the model:\n",
    "* *fakeID* as Index\n",
    "* Split data into labelled and unlabelled\n",
    "* Drop labels\n",
    "* Feature and target split\n",
    "* Train, test split\n",
    "* Standardize all numerical features"
   ]
  },
  {
   "cell_type": "code",
   "execution_count": 353,
   "id": "1e28f818-9cfa-41d4-af4d-aa5b2a4346d3",
   "metadata": {
    "jupyter": {
     "source_hidden": true
    },
    "tags": []
   },
   "outputs": [],
   "source": [
    "# Import libraries\n",
    "\n",
    "import pandas as pd\n",
    "import seaborn as sns\n",
    "import numpy as np\n",
    "import matplotlib.pyplot as plt\n",
    "\n",
    "from sklearn.preprocessing import StandardScaler\n",
    "from sklearn.model_selection import train_test_split\n",
    "from sklearn.linear_model import LogisticRegression\n",
    "from sklearn import metrics\n",
    "\n",
    "from sklearn.metrics import classification_report, accuracy_score, recall_score, f1_score, plot_confusion_matrix"
   ]
  },
  {
   "cell_type": "code",
   "execution_count": 449,
   "id": "e6158dc1-f2c8-4f80-92d0-996c6142e40d",
   "metadata": {
    "jupyter": {
     "source_hidden": true
    },
    "tags": []
   },
   "outputs": [],
   "source": [
    "# Load the data\n",
    "\n",
    "df = pd.read_csv(\"data/CustomerData_clean.csv\")\n",
    "\n",
    "# FakeID as Index\n",
    "\n",
    "df.set_index(\"fakeID\", inplace=True)\n",
    "\n",
    "# Split into labelled and unlablled data\n",
    "\n",
    "df_lab = df[df[\"b_in_kontakt_gewesen\"] != 0]\n",
    "df_unlab = df[df[\"b_in_kontakt_gewesen\"] == 0]\n",
    "\n",
    "# The features are saved in X and the target column in y, for both labelled and unlabelled data\n",
    "\n",
    "X_lab = df_lab.drop(columns=\"b_gekauft_gesamt\")\n",
    "y_lab = df_lab[\"b_gekauft_gesamt\"]\n",
    "X_unlab = df_unlab.drop(columns=\"b_gekauft_gesamt\")\n",
    "y_unlab = df_unlab[\"b_gekauft_gesamt\"]\n",
    "\n",
    "# Drop all the labels b_in_kontakt_gewesen\n",
    "\n",
    "X_lab = X_lab.drop(columns=\"b_in_kontakt_gewesen\")\n",
    "y_lab = y_lab.drop(columns=\"b_in_kontakt_gewesen\")\n",
    "X_unlab = X_unlab.drop(columns=\"b_in_kontakt_gewesen\")\n",
    "y_unlab = y_unlab.drop(columns=\"b_in_kontakt_gewesen\")\n",
    "\n",
    "# Train, test split on labelled data set \n",
    "X_lab_train, X_lab_test, y_lab_train, y_lab_test = train_test_split(X_lab, y_lab, test_size=0.3, shuffle=False)"
   ]
  },
  {
   "cell_type": "markdown",
   "id": "6a7bec2f-8003-4328-b4ef-92ee19cd5e63",
   "metadata": {},
   "source": [
    "The standardization is fitted with all the unlabelled data and with the resulting parameters, the unlabelled and labelled (train and test) data are transformed. This is because there are more unlabelled data and a better fit can be obtained."
   ]
  },
  {
   "cell_type": "code",
   "execution_count": 450,
   "id": "aa5704db-a3a7-4f00-b74b-dce28ad7a309",
   "metadata": {
    "jupyter": {
     "source_hidden": true
    },
    "tags": []
   },
   "outputs": [],
   "source": [
    "# Scale train, test and unlabelled data. The continuous numerical features are saved as cont.\n",
    "\n",
    "cont = [\"q_OpeningDays\",\"q_2017 Average Household Size\",\"q_2017 Total Households\",\"q_5th Quint by Total HH\",\"q_2017 Purchasing Power: Per Capita\",\"q_Uni by Total Pop\",\"q_2017 Medical Products: Per Capita\",\"spec_number\"]\n",
    "scaler = StandardScaler()\n",
    "\n",
    "# Fit and transformation of the unlabelled data\n",
    "\n",
    "X_unlab[cont] = scaler.fit_transform(X_unlab[cont])\n",
    "\n",
    "# Transformation of the remaining data\n",
    "\n",
    "X_lab_train[cont] = scaler.transform(X_lab_train[cont])\n",
    "X_lab_test[cont] = scaler.transform(X_lab_test[cont])"
   ]
  },
  {
   "cell_type": "markdown",
   "id": "c50929ab-df51-482e-bc79-1fab7d0520aa",
   "metadata": {},
   "source": [
    "### Modelling"
   ]
  },
  {
   "cell_type": "markdown",
   "id": "e3efaa7a-034b-4077-8558-b22ed643d793",
   "metadata": {},
   "source": [
    "The logistic regression is a simple binary classifier. Firstly, the model is trained to predict the test data with a probability threshold of 0.75. The regularization parameter C is chosed to be 0.5. After that, self-training is used to predict the unlabelled data. A [confusion matrix](https://en.wikipedia.org/wiki/Confusion_matrix) is shown to illustrate the true and false positives and negatives."
   ]
  },
  {
   "cell_type": "code",
   "execution_count": 451,
   "id": "5865c437-cab8-4b0c-9076-4f8464227020",
   "metadata": {
    "jupyter": {
     "source_hidden": true
    },
    "tags": []
   },
   "outputs": [
    {
     "name": "stdout",
     "output_type": "stream",
     "text": [
      "Train f1 Score: 0.5483870967741935\n",
      "Test f1 Score: 0.4444444444444445\n",
      "Accuracy:  0.4827586206896552\n",
      "Recall: 0.4857142857142857\n"
     ]
    },
    {
     "data": {
      "image/png": "[encoded data removed]",
      "text/plain": [
       "<Figure size 432x288 with 2 Axes>"
      ]
     },
     "metadata": {
      "needs_background": "light"
     },
     "output_type": "display_data"
    }
   ],
   "source": [
    "# Logistic regression (scikit-learn)\n",
    "\n",
    "clf = LogisticRegression(C=0.5,max_iter=1000)\n",
    "clf.fit(X_lab_train, y_lab_train)\n",
    "#y_hat_test = clf.predict(X_lab_test)\n",
    "#y_hat_train = clf.predict(X_lab_train)\n",
    "y_hat_test = (clf.predict_proba(X_lab_test)[:,1] >= 0.75).astype(bool)\n",
    "y_hat_train = (clf.predict_proba(X_lab_train)[:,1] >= 0.75).astype(bool)\n",
    "\n",
    "train_f1 = f1_score(y_lab_train, y_hat_train)\n",
    "test_f1 = f1_score(y_lab_test, y_hat_test)\n",
    "\n",
    "print(f\"Train f1 Score: {train_f1}\")\n",
    "print(f\"Test f1 Score: {test_f1}\")\n",
    "\n",
    "# Confusion Matrix Plot\n",
    "\n",
    "confusion_matrix = pd.crosstab(y_lab_test, y_hat_test, rownames=['Actual'], colnames=['Predicted'])\n",
    "sns.heatmap(confusion_matrix, annot=True);\n",
    "print('Accuracy: ',metrics.accuracy_score(y_lab_test, y_hat_test))\n",
    "print(\"Recall: \" + str(recall_score(y_lab_test, y_hat_test, average='macro')))"
   ]
  },
  {
   "cell_type": "markdown",
   "id": "90e3c916-d87c-484d-b5f2-2db4c8bf531c",
   "metadata": {},
   "source": [
    "In the following section, the self-learning step is carried out. The code is borrowed from [towardsdatascience.com](https://towardsdatascience.com/a-gentle-introduction-to-self-training-and-semi-supervised-learning-ceee73178b38)."
   ]
  },
  {
   "cell_type": "code",
   "execution_count": null,
   "id": "bd47b6b3-d4bf-42fa-b9f2-fbb208ac360c",
   "metadata": {
    "jupyter": {
     "source_hidden": true
    },
    "tags": []
   },
   "outputs": [],
   "source": [
    "# Initiate iteration counter\n",
    "\n",
    "iterations = 0\n",
    "\n",
    "# Containers to hold f1_scores and # of pseudo-labels\n",
    "\n",
    "train_f1s = []\n",
    "test_f1s = []\n",
    "pseudo_labels = []\n",
    "\n",
    "# Assign value to initiate while loop\n",
    "\n",
    "high_prob = [1] \n",
    "\n",
    "# Loop will run until there are no more high-probability pseudo-labels\n",
    "\n",
    "while len(high_prob) > 0:\n",
    "        \n",
    "    # Fit classifier and make train/test predictions\n",
    "    \n",
    "    clf = LogisticRegression(C=0.5, max_iter=1000)\n",
    "    clf.fit(X_lab_train, y_lab_train)\n",
    "    #y_hat_train = clf.predict(X_lab_train)\n",
    "    #y_hat_test = clf.predict(X_lab_test)\n",
    "    y_hat_train = (clf.predict_proba(X_lab_train)[:,1] >= 0.75).astype(int)\n",
    "    y_hat_test = (clf.predict_proba(X_lab_test)[:,1] >= 0.75).astype(int)\n",
    "    \n",
    "\n",
    "    # Calculate and print iteration # and f1 scores, and store f1 scores\n",
    "    \n",
    "    train_f1 = f1_score(y_lab_train, y_hat_train)\n",
    "    test_f1 = f1_score(y_lab_test, y_hat_test)\n",
    "    print(f\"Iteration {iterations}\")\n",
    "    print(f\"Train f1: {train_f1}\")\n",
    "    print(f\"Test f1: {test_f1}\")\n",
    "    print('Test Accuracy: ',metrics.accuracy_score(y_lab_test, y_hat_test))\n",
    "    print(\"Test Recall: \" ,recall_score(y_lab_test, y_hat_test, average='macro'))\n",
    "    train_f1s.append(train_f1)\n",
    "    test_f1s.append(test_f1)\n",
    "   \n",
    "    # Generate predictions and probabilities for unlabeled data\n",
    "    \n",
    "    print(f\"Now predicting labels for unlabeled data...\")\n",
    "\n",
    "    pred_probs = clf.predict_proba(X_unlab)\n",
    "    #preds = clf.predict(X_unlab)\n",
    "    preds = (clf.predict_proba(X_unlab)[:,1] >= 0.75).astype(int)\n",
    "    prob_0 = pred_probs[:,0]\n",
    "    prob_1 = pred_probs[:,1]\n",
    "\n",
    "    # Store predictions and probabilities in dataframe\n",
    "    \n",
    "    df_pred_prob = pd.DataFrame([])\n",
    "    df_pred_prob['preds'] = preds\n",
    "    df_pred_prob['prob_0'] = prob_0\n",
    "    df_pred_prob['prob_1'] = prob_1\n",
    "    df_pred_prob.index = X_unlab.index\n",
    "    \n",
    "    if iterations == 0:\n",
    "        store = df_pred_prob\n",
    "    \n",
    "    # Separate predictions with > 70% probability\n",
    "    \n",
    "    high_prob = pd.concat([df_pred_prob.loc[df_pred_prob['prob_0'] > 0.70],\n",
    "                           df_pred_prob.loc[df_pred_prob['prob_1'] > 0.70]],\n",
    "                          axis=0)\n",
    "    \n",
    "    print(f\"{len(high_prob)} high-probability predictions added to training data.\")\n",
    "    \n",
    "    pseudo_labels.append(len(high_prob))\n",
    "\n",
    "    # Add pseudo-labeled data to training data\n",
    "    \n",
    "    X_lab_train = pd.concat([X_lab_train, X_unlab.loc[high_prob.index]], axis=0)\n",
    "    y_lab_train = pd.concat([y_lab_train, high_prob.preds])      \n",
    "    \n",
    "    # Drop pseudo-labeled instances from unlabeled data\n",
    "    \n",
    "    X_unlab = X_unlab.drop(index=high_prob.index)\n",
    "    print(f\"{len(X_unlab)} unlabeled instances remaining.\\n\")\n",
    "    \n",
    "    # Update iteration counter\n",
    "    \n",
    "    iterations += 1"
   ]
  },
  {
   "cell_type": "markdown",
   "id": "a87f5b7d-6f19-417b-9adc-113cbfd0b920",
   "metadata": {},
   "source": [
    "### Recommendations for the stakeholder"
   ]
  },
  {
   "cell_type": "markdown",
   "id": "5ea374e8-fe4e-4b17-b456-27b37af88ddd",
   "metadata": {},
   "source": [
    "After implementing a machine learning model to get a lead generator, a actual recommendation is part of the work. Here, a list of the top ten most promising contacts (*fakeID*) is given."
   ]
  },
  {
   "cell_type": "code",
   "execution_count": 482,
   "id": "1d0eccef-eb8d-4de4-8f5a-f936db329f6e",
   "metadata": {
    "jupyter": {
     "source_hidden": true
    },
    "tags": []
   },
   "outputs": [
    {
     "name": "stdout",
     "output_type": "stream",
     "text": [
      "Please contact the following ten contacts, it migh be a successful meeting! \n",
      " ('278_3711', '861_6272', '727_8789', '380_4886', '555_7226', '595_7573', '756_9216', '247_3395', '757_5373', '320_4295')\n"
     ]
    }
   ],
   "source": [
    "topten = tuple(store.sort_values(\"prob_1\", ascending = False).head(10).index)\n",
    "\n",
    "print(f\"Please contact the following ten contacts, it migh be a successful meeting! \\n {topten}\")"
   ]
  },
  {
   "cell_type": "markdown",
   "id": "ded90c74-cb35-4145-b084-fbe323a3dbe8",
   "metadata": {},
   "source": [
    "The stakeholder might be interested in the feature importance. This is shown here:"
   ]
  },
  {
   "cell_type": "code",
   "execution_count": 488,
   "id": "e23bb361-6c8a-4f92-8085-386fe69482c4",
   "metadata": {
    "jupyter": {
     "source_hidden": true
    },
    "tags": []
   },
   "outputs": [
    {
     "name": "stdout",
     "output_type": "stream",
     "text": [
      "The most important features are (descending order): ['b_specialisation_f', 'b_specialisation_a', 'b_specialisation_j', 'b_specialisation_b', 'q_2017 Total Households', 'spec_number', 'b_specialisation_d', 'b_specialisation_c', 'q_Uni by Total Pop', 'q_2017 Medical Products: Per Capita', 'q_2017 Average Household Size', 'b_specialisation_i', 'q_2017 Purchasing Power: Per Capita', 'b_specialisation_g', 'b_specialisation_e', 'b_specialisation_h', 'q_5th Quint by Total HH', 'q_OpeningDays']\n"
     ]
    }
   ],
   "source": [
    "# Feature importance\n",
    "\n",
    "coeff = clf.coef_\n",
    "coeff = pd.Series(coeff.flatten(order='C'),name=\"Coefficients\")\n",
    "\n",
    "coeff = pd.Series(coeff).to_frame()\n",
    "\n",
    "feature_importance = pd.Series(X_lab_test.columns, name=\"Features\").to_frame()\n",
    "feature_importance = pd.concat([feature_importance,coeff],axis=1)\n",
    "\n",
    "\n",
    "feature_importance.set_index(\"Features\", inplace=True)\n",
    "feature_importance.sort_values(\"Coefficients\", ascending=False, inplace=True)\n",
    "\n",
    "print(f\"The most important features are (descending order): {list(feature_importance.index)}\")\n",
    "\n"
   ]
  },
  {
   "cell_type": "markdown",
   "id": "10ebf862-d500-4469-a409-6ae3fb32086a",
   "metadata": {},
   "source": [
    "### Final words\n",
    "\n",
    "A semi-supervised self-learning approach was implemented to solve the huge amount of unlabelled data. However, the accuracy and recall values are not ideal. More labelled data, i.e. *b_in_kontakt_gewesen* would be helpful. Nevertheless, I would really love to get some tips to improve the model and my work."
   ]
  }
 ],
 "metadata": {
  "kernelspec": {
   "display_name": "Python 3 (ipykernel)",
   "language": "python",
   "name": "python3"
  },
  "language_info": {
   "codemirror_mode": {
    "name": "ipython",
    "version": 3
   },
   "file_extension": ".py",
   "mimetype": "text/x-python",
   "name": "python",
   "nbconvert_exporter": "python",
   "pygments_lexer": "ipython3",
   "version": "3.9.4"
  }
 },
 "nbformat": 4,
 "nbformat_minor": 5
}
